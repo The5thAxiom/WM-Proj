{
 "cells": [
  {
   "cell_type": "code",
   "execution_count": 78,
   "metadata": {},
   "outputs": [],
   "source": [
    "import pandas as pd\n",
    "\n",
    "from queue import Queue\n",
    "from requests import get\n",
    "\n",
    "from bs4 import BeautifulSoup"
   ]
  },
  {
   "cell_type": "code",
   "execution_count": 79,
   "metadata": {},
   "outputs": [],
   "source": [
    "class Crawler:\n",
    "    def __init__(self, seed_url: str):\n",
    "        self.q = Queue()\n",
    "        self.q.put(seed_url)\n",
    "        self.visited_urls = set()\n",
    "        self.error_urls = set()\n",
    "        self.visited_pages = {}\n",
    "        self.seed_url = seed_url\n",
    "\n",
    "    def crawl(self, num_pages: int|None=50):\n",
    "        num_crawled = 0\n",
    "        while not self.q.empty() and num_crawled < num_pages:\n",
    "            url = self.q.get()\n",
    "            try:\n",
    "                resp = get(url).content\n",
    "                self.visited_urls.add(url)\n",
    "                page = BeautifulSoup(resp, \"html.parser\")\n",
    "                self.visited_pages[url] = page\n",
    "                print(f\"visited: {url}\")\n",
    "                \n",
    "                # adding links to the queue\n",
    "                links = {a['href'] for a in page.find_all('a')}\n",
    "                for link in links:\n",
    "                    if not link.startswith('http') and not link.startswith('#'):\n",
    "                        link = f'{url}{link}'\n",
    "                        if link not in self.visited_urls:\n",
    "                            self.q.put(link)\n",
    "                num_crawled += 1\n",
    "            except:\n",
    "                self.error_urls.add(url)\n",
    "                continue\n",
    "    \n",
    "    def reset_seed(self, url: str|None):\n",
    "        self.q = Queue()\n",
    "        if url is not None:\n",
    "            self.seed_url = url\n",
    "            self.q.put(url)"
   ]
  },
  {
   "cell_type": "code",
   "execution_count": 80,
   "metadata": {},
   "outputs": [
    {
     "name": "stdout",
     "output_type": "stream",
     "text": [
      "visited: https://nymag.com\n",
      "visited: https://nymag.com//nymag.com/intelligencer/2023/02/tim-scott-2024-iowa-pitch-gop-dominance.html\n",
      "visited: https://nymag.com//www.vulture.com/2023/02/selena-gomez-social-media-break-tiktok-drama-hailey-bieber-kylie-jenner.html\n",
      "visited: https://nymag.com//thecut.com/culture\n",
      "visited: https://nymag.com//www.vulture.com/article/the-real-housewives-of-miami-season-5-episode-15-recap-lines-in-the-sand.html\n",
      "visited: https://nymag.com//www.curbed.com/2023/02/elon-musk-tesla-master-plan-investor-day.html\n",
      "visited: https://nymag.com//www.grubstreet.com/article/how-much-to-tip-new-etiquette-rules.html\n",
      "visited: https://nymag.com//www.thecut.com/2023/02/harvey-weinstein-l-a-trial-what-to-know.html\n",
      "visited: https://nymag.com//www.thecut.com/2023/02/kylie-jenner-postpartum-depression.html\n",
      "visited: https://nymag.com//www.vulture.com/article/jerry-saltz-moma-refik-anadol-unsupervised.html\n"
     ]
    }
   ],
   "source": [
    "c = Crawler('https://nymag.com')\n",
    "c.crawl(10)"
   ]
  },
  {
   "cell_type": "code",
   "execution_count": 81,
   "metadata": {},
   "outputs": [
    {
     "name": "stdout",
     "output_type": "stream",
     "text": [
      "visited: https://en.wikipedia.org/wiki/Main_Page\n",
      "visited: https://en.wikipedia.org/wiki/Main_Page/wiki/Wikipedia:Today%27s_featured_list/February_2023\n"
     ]
    }
   ],
   "source": [
    "c.reset_seed('https://en.wikipedia.org/wiki/Main_Page')\n",
    "c.crawl(10)"
   ]
  },
  {
   "cell_type": "code",
   "execution_count": 82,
   "metadata": {},
   "outputs": [],
   "source": [
    "def alt_tag_percentage(bso) -> float:\n",
    "    img_tags = bso.find_all('img')\n",
    "    img_tags_with_alt = [tag for tag in img_tags if tag.has_attr('alt')]\n",
    "    return len(img_tags_with_alt) / len(img_tags) if len(img_tags) > 0 else 1"
   ]
  },
  {
   "cell_type": "code",
   "execution_count": 83,
   "metadata": {},
   "outputs": [],
   "source": [
    "def aria_label_links_percentage(bso) -> float:\n",
    "    a_tags = bso.find_all('a')\n",
    "    a_tags_with_aria_label = [tag for tag in a_tags if tag.has_attr('aria-label')]\n",
    "    return len(a_tags_with_aria_label) / len(a_tags) if len(a_tags) > 0 else 1"
   ]
  },
  {
   "cell_type": "code",
   "execution_count": 84,
   "metadata": {},
   "outputs": [
    {
     "data": {
      "text/html": [
       "<div>\n",
       "<style scoped>\n",
       "    .dataframe tbody tr th:only-of-type {\n",
       "        vertical-align: middle;\n",
       "    }\n",
       "\n",
       "    .dataframe tbody tr th {\n",
       "        vertical-align: top;\n",
       "    }\n",
       "\n",
       "    .dataframe thead th {\n",
       "        text-align: right;\n",
       "    }\n",
       "</style>\n",
       "<table border=\"1\" class=\"dataframe\">\n",
       "  <thead>\n",
       "    <tr style=\"text-align: right;\">\n",
       "      <th></th>\n",
       "      <th>url</th>\n",
       "      <th>alt_text_percentage</th>\n",
       "      <th>aria_label_percentage</th>\n",
       "    </tr>\n",
       "  </thead>\n",
       "  <tbody>\n",
       "    <tr>\n",
       "      <th>0</th>\n",
       "      <td>https://nymag.com</td>\n",
       "      <td>1.000000</td>\n",
       "      <td>0.003058</td>\n",
       "    </tr>\n",
       "    <tr>\n",
       "      <th>1</th>\n",
       "      <td>https://nymag.com//nymag.com/intelligencer/202...</td>\n",
       "      <td>0.333333</td>\n",
       "      <td>0.000000</td>\n",
       "    </tr>\n",
       "    <tr>\n",
       "      <th>2</th>\n",
       "      <td>https://nymag.com//www.vulture.com/2023/02/sel...</td>\n",
       "      <td>0.333333</td>\n",
       "      <td>0.000000</td>\n",
       "    </tr>\n",
       "    <tr>\n",
       "      <th>3</th>\n",
       "      <td>https://nymag.com//thecut.com/culture</td>\n",
       "      <td>0.333333</td>\n",
       "      <td>0.000000</td>\n",
       "    </tr>\n",
       "    <tr>\n",
       "      <th>4</th>\n",
       "      <td>https://nymag.com//www.vulture.com/article/the...</td>\n",
       "      <td>0.333333</td>\n",
       "      <td>0.000000</td>\n",
       "    </tr>\n",
       "    <tr>\n",
       "      <th>5</th>\n",
       "      <td>https://nymag.com//www.curbed.com/2023/02/elon...</td>\n",
       "      <td>0.333333</td>\n",
       "      <td>0.000000</td>\n",
       "    </tr>\n",
       "    <tr>\n",
       "      <th>6</th>\n",
       "      <td>https://nymag.com//www.grubstreet.com/article/...</td>\n",
       "      <td>0.333333</td>\n",
       "      <td>0.000000</td>\n",
       "    </tr>\n",
       "    <tr>\n",
       "      <th>7</th>\n",
       "      <td>https://nymag.com//www.thecut.com/2023/02/harv...</td>\n",
       "      <td>0.333333</td>\n",
       "      <td>0.000000</td>\n",
       "    </tr>\n",
       "    <tr>\n",
       "      <th>8</th>\n",
       "      <td>https://nymag.com//www.thecut.com/2023/02/kyli...</td>\n",
       "      <td>0.333333</td>\n",
       "      <td>0.000000</td>\n",
       "    </tr>\n",
       "    <tr>\n",
       "      <th>9</th>\n",
       "      <td>https://nymag.com//www.vulture.com/article/jer...</td>\n",
       "      <td>0.333333</td>\n",
       "      <td>0.000000</td>\n",
       "    </tr>\n",
       "    <tr>\n",
       "      <th>10</th>\n",
       "      <td>https://en.wikipedia.org/wiki/Main_Page</td>\n",
       "      <td>1.000000</td>\n",
       "      <td>0.002967</td>\n",
       "    </tr>\n",
       "    <tr>\n",
       "      <th>11</th>\n",
       "      <td>https://en.wikipedia.org/wiki/Main_Page/wiki/W...</td>\n",
       "      <td>1.000000</td>\n",
       "      <td>0.016129</td>\n",
       "    </tr>\n",
       "  </tbody>\n",
       "</table>\n",
       "</div>"
      ],
      "text/plain": [
       "                                                  url  alt_text_percentage  \\\n",
       "0                                   https://nymag.com             1.000000   \n",
       "1   https://nymag.com//nymag.com/intelligencer/202...             0.333333   \n",
       "2   https://nymag.com//www.vulture.com/2023/02/sel...             0.333333   \n",
       "3               https://nymag.com//thecut.com/culture             0.333333   \n",
       "4   https://nymag.com//www.vulture.com/article/the...             0.333333   \n",
       "5   https://nymag.com//www.curbed.com/2023/02/elon...             0.333333   \n",
       "6   https://nymag.com//www.grubstreet.com/article/...             0.333333   \n",
       "7   https://nymag.com//www.thecut.com/2023/02/harv...             0.333333   \n",
       "8   https://nymag.com//www.thecut.com/2023/02/kyli...             0.333333   \n",
       "9   https://nymag.com//www.vulture.com/article/jer...             0.333333   \n",
       "10            https://en.wikipedia.org/wiki/Main_Page             1.000000   \n",
       "11  https://en.wikipedia.org/wiki/Main_Page/wiki/W...             1.000000   \n",
       "\n",
       "    aria_label_percentage  \n",
       "0                0.003058  \n",
       "1                0.000000  \n",
       "2                0.000000  \n",
       "3                0.000000  \n",
       "4                0.000000  \n",
       "5                0.000000  \n",
       "6                0.000000  \n",
       "7                0.000000  \n",
       "8                0.000000  \n",
       "9                0.000000  \n",
       "10               0.002967  \n",
       "11               0.016129  "
      ]
     },
     "execution_count": 84,
     "metadata": {},
     "output_type": "execute_result"
    }
   ],
   "source": [
    "results = pd.DataFrame()\n",
    "for i, (url, page) in enumerate(c.visited_pages.items()):\n",
    "    results.loc[i, 'url'] = url\n",
    "    results.loc[i, 'alt_text_percentage'] = alt_tag_percentage(page)\n",
    "    results.loc[i, 'aria_label_percentage'] = aria_label_links_percentage(page)\n",
    "results"
   ]
  },
  {
   "cell_type": "code",
   "execution_count": 85,
   "metadata": {},
   "outputs": [],
   "source": [
    "results.to_csv('accessibility.csv')"
   ]
  }
 ],
 "metadata": {
  "kernelspec": {
   "display_name": "Python 3",
   "language": "python",
   "name": "python3"
  },
  "language_info": {
   "codemirror_mode": {
    "name": "ipython",
    "version": 3
   },
   "file_extension": ".py",
   "mimetype": "text/x-python",
   "name": "python",
   "nbconvert_exporter": "python",
   "pygments_lexer": "ipython3",
   "version": "3.11.1"
  },
  "orig_nbformat": 4,
  "vscode": {
   "interpreter": {
    "hash": "e7370f93d1d0cde622a1f8e1c04877d8463912d04d973331ad4851f04de6915a"
   }
  }
 },
 "nbformat": 4,
 "nbformat_minor": 2
}
